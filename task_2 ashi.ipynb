{
 "cells": [
  {
   "cell_type": "code",
   "execution_count": 1,
   "metadata": {},
   "outputs": [
    {
     "name": "stdout",
     "output_type": "stream",
     "text": [
      "2.5445731979267805e-06\n"
     ]
    }
   ],
   "source": [
    "import math\n",
    "import numpy as np\n",
    "from bokeh.plotting import figure\n",
    "from bokeh.io import show\n",
    "\n",
    "# part 1\n",
    "x_5 = 41/99\n",
    "x_6 = 3\n",
    "x_7 = 58/99\n",
    "x_8 = 7\n",
    "\n",
    "def probability_distribution(y):\n",
    "    return x_5 * (math.e ** (-x_6 * (y ** 2))) + (x_7 * (math.e ** (-x_8 * (y ** 2))))\n",
    "\n",
    "prob_2_to_4h = 1 - probability_distribution(4) - (1 - probability_distribution(2))\n",
    "\n",
    "print(prob_2_to_4h)\n",
    "\n",
    "\n",
    "# part 2\n",
    "def pdf(y):\n",
    "    return (((82/33) * y * math.e ** (-3 * (y ** 2))) + ((812/99) * y * math.e ** (-7 * (y**2))))\n",
    "\n",
    "\n",
    "def hist_prob(a, b):\n",
    "    prob = 1 - probability_distribution(b) - (1 - probability_distribution(a))\n",
    "    return prob\n",
    "\n",
    "hour_start = 0\n",
    "hour_end = 7\n",
    "n_minutes = 7 * 60\n",
    "\n",
    "minutes = np.linspace(start=hour_start, stop=hour_end, num=n_minutes) \n",
    "hist_values = [hist_prob(minutes[i], minutes[i+1]) for i in range(len(minutes[:n_minutes-1]))]\n",
    "pdf_values = [pdf(minutes[i+1]) for i in range(len(minutes)-1)]\n"
   ]
  },
  {
   "cell_type": "code",
   "execution_count": 2,
   "metadata": {},
   "outputs": [
    {
     "name": "stderr",
     "output_type": "stream",
     "text": [
      "BokehUserWarning: ColumnDataSource's columns must be of the same length. Current lengths: ('x', 420), ('y', 419)\n",
      "c:\\Users\\kaiho\\anaconda3\\envs\\python_assignment\\lib\\site-packages\\bokeh\\models\\plots.py:954: UserWarning: \n",
      "You are attempting to set `plot.legend.location` on a plot that has zero legends added, this will have no effect.\n",
      "\n",
      "Before legend properties can be set, you must add a Legend explicitly, or call a glyph method with a legend parameter set.\n",
      "\n",
      "  warnings.warn(_LEGEND_EMPTY_WARNING % attr)\n"
     ]
    }
   ],
   "source": [
    "p = figure(width=800, height=500,\n",
    "           x_axis_label='y hours of waiting before hearing the owl', y_axis_label='pdf value', title='pdf')\n",
    "p.line(x=minutes, y=pdf_values, line_alpha=1, line_color = 'black')\n",
    "p.legend.location = 'top_right'\n",
    "\n",
    "show(p)\n",
    "\n",
    "p = figure(width=800, height=500,\n",
    "           x_axis_label='y hours of waiting before hearing the owl', y_axis_label='probability', title='histogram')\n",
    "p.quad(bottom=0, top=hist_values, left=[minutes[i] for i in range(len(minutes)-1)], right=[minutes[i+1] for i in range(len(minutes)-1)], \n",
    "       fill_color='red', line_color='black', fill_alpha=0.6)\n",
    "p.legend.location = 'top_right'\n",
    "\n",
    "show(p)"
   ]
  }
 ],
 "metadata": {
  "kernelspec": {
   "display_name": "datascience",
   "language": "python",
   "name": "python3"
  },
  "language_info": {
   "codemirror_mode": {
    "name": "ipython",
    "version": 3
   },
   "file_extension": ".py",
   "mimetype": "text/x-python",
   "name": "python",
   "nbconvert_exporter": "python",
   "pygments_lexer": "ipython3",
   "version": "3.10.8"
  },
  "orig_nbformat": 4
 },
 "nbformat": 4,
 "nbformat_minor": 2
}
